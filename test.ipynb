{
 "cells": [
  {
   "cell_type": "code",
   "execution_count": 11,
   "metadata": {},
   "outputs": [
    {
     "data": {
      "text/plain": [
       "(DataFrame[a: bigint],\n",
       " \n",
       " from pyspark.sql.types import LongType\n",
       " \n",
       " from typedspark import Column, Schema\n",
       " \n",
       " \n",
       " class A(Schema):\n",
       "     a: Column[LongType])"
      ]
     },
     "execution_count": 11,
     "metadata": {},
     "output_type": "execute_result"
    }
   ],
   "source": [
    "from pyspark.sql import SparkSession\n",
    "from pyspark.sql.types import LongType\n",
    "from typedspark import Schema, Column\n",
    "from typedspark._core.dataset import DataSet\n",
    "\n",
    "\n",
    "class A(Schema):\n",
    "    a: Column[LongType]\n",
    "\n",
    "\n",
    "spark = SparkSession.Builder().getOrCreate()\n",
    "\n",
    "df = spark.createDataFrame([(1,)], [\"a\"])\n",
    "\n",
    "DataSet[A].from_dataframe(df)"
   ]
  }
 ],
 "metadata": {
  "kernelspec": {
   "display_name": "typedspark-3.11.9",
   "language": "python",
   "name": "python3"
  },
  "language_info": {
   "codemirror_mode": {
    "name": "ipython",
    "version": 3
   },
   "file_extension": ".py",
   "mimetype": "text/x-python",
   "name": "python",
   "nbconvert_exporter": "python",
   "pygments_lexer": "ipython3",
   "version": "3.11.9"
  }
 },
 "nbformat": 4,
 "nbformat_minor": 2
}
